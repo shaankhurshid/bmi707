{
  "nbformat": 4,
  "nbformat_minor": 0,
  "metadata": {
    "colab": {
      "name": "Pre-processing.ipynb",
      "provenance": [],
      "include_colab_link": true
    },
    "kernelspec": {
      "name": "python3",
      "display_name": "Python 3"
    }
  },
  "cells": [
    {
      "cell_type": "markdown",
      "metadata": {
        "id": "view-in-github",
        "colab_type": "text"
      },
      "source": [
        "<a href=\"https://colab.research.google.com/github/shaankhurshid/bmi707/blob/pre-processing/Pre_processing.ipynb\" target=\"_parent\"><img src=\"https://colab.research.google.com/assets/colab-badge.svg\" alt=\"Open In Colab\"/></a>"
      ]
    },
    {
      "cell_type": "code",
      "metadata": {
        "id": "IU_ldoTcUmSv",
        "colab_type": "code",
        "colab": {}
      },
      "source": [
        "import pandas as pd\n",
        "import numpy as np"
      ],
      "execution_count": 0,
      "outputs": []
    },
    {
      "cell_type": "code",
      "metadata": {
        "id": "1U8kw9REZQQJ",
        "colab_type": "code",
        "colab": {}
      },
      "source": [
        "# Copying the data from dropbox\n"
      ],
      "execution_count": 0,
      "outputs": []
    },
    {
      "cell_type": "code",
      "metadata": {
        "id": "PYQXpBp8b3dx",
        "colab_type": "code",
        "colab": {}
      },
      "source": [
        "# Importing the data\n",
        "train_controls = pd.read_csv('train_controls_transformed.csv?dl=0')\n",
        "train_cases = pd.read_csv('train_cases_transformed.csv?dl=0')\n",
        "train_controls = pd.read_csv('holdout_controls_transformed.csv?dl=0')\n",
        "train_cases = pd.read_csv('holdout_cases_transformed.csv?dl=0')"
      ],
      "execution_count": 0,
      "outputs": []
    },
    {
      "cell_type": "code",
      "metadata": {
        "id": "J_1LXPnBa5ZB",
        "colab_type": "code",
        "colab": {}
      },
      "source": [
        ""
      ],
      "execution_count": 0,
      "outputs": []
    }
  ]
}