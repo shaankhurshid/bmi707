{
  "nbformat": 4,
  "nbformat_minor": 0,
  "metadata": {
    "colab": {
      "name": "Pre-processing.ipynb",
      "provenance": [],
      "include_colab_link": true
    },
    "kernelspec": {
      "name": "python3",
      "display_name": "Python 3"
    }
  },
  "cells": [
    {
      "cell_type": "markdown",
      "metadata": {
        "id": "view-in-github",
        "colab_type": "text"
      },
      "source": [
        "<a href=\"https://colab.research.google.com/github/shaankhurshid/bmi707/blob/pre-processing/Pre_processing.ipynb\" target=\"_parent\"><img src=\"https://colab.research.google.com/assets/colab-badge.svg\" alt=\"Open In Colab\"/></a>"
      ]
    },
    {
      "cell_type": "code",
      "metadata": {
        "id": "IU_ldoTcUmSv",
        "colab_type": "code",
        "colab": {}
      },
      "source": [
        "import pandas as pd\n",
        "import numpy as np"
      ],
      "execution_count": 0,
      "outputs": []
    },
    {
      "cell_type": "code",
      "metadata": {
        "id": "1U8kw9REZQQJ",
        "colab_type": "code",
        "colab": {
          "base_uri": "https://localhost:8080/",
          "height": 1000
        },
        "outputId": "1f82cdb1-db41-4194-f8ad-74207abaa81c"
      },
      "source": [
        "# Copying the data from dropbox\n",
        "!wget https://www.dropbox.com/s/neharvmmj5wkftk/train_controls_transformed.csv?dl=0\n",
        "!wget https://www.dropbox.com/s/l7ttj1jjd7rtwbp/train_cases_transformed.csv?dl=0\n",
        "!wget https://www.dropbox.com/s/f4zsvv2eeia5lbl/holdout_controls_transformed.csv?dl=0\n",
        "!wget https://www.dropbox.com/s/eqpxj42chflzfl4/holdout_cases_transformed.csv?dl=0"
      ],
      "execution_count": 1,
      "outputs": [
        {
          "output_type": "stream",
          "text": [
            "--2020-04-20 16:32:01--  https://www.dropbox.com/s/neharvmmj5wkftk/train_controls_transformed.csv?dl=0\n",
            "Resolving www.dropbox.com (www.dropbox.com)... 162.125.9.1, 2620:100:601f:1::a27d:901\n",
            "Connecting to www.dropbox.com (www.dropbox.com)|162.125.9.1|:443... connected.\n",
            "HTTP request sent, awaiting response... 301 Moved Permanently\n",
            "Location: /s/raw/neharvmmj5wkftk/train_controls_transformed.csv [following]\n",
            "--2020-04-20 16:32:01--  https://www.dropbox.com/s/raw/neharvmmj5wkftk/train_controls_transformed.csv\n",
            "Reusing existing connection to www.dropbox.com:443.\n",
            "HTTP request sent, awaiting response... 302 Found\n",
            "Location: https://uc2a72bc4998011d43f6b9c118a5.dl.dropboxusercontent.com/cd/0/inline/A2MuepXO3kWTCE1RNO5QlJmU7ZHHY1Ny7UBtDfOYpYmfwlbLv5e0xJ45cvx7ZyWmBNO1Qxd6msiNmLtcWO5FEDkg_GB5y3w9r7NnkEIO39eMufBjcHr4pbqgeUplBaFIf6Y/file# [following]\n",
            "--2020-04-20 16:32:02--  https://uc2a72bc4998011d43f6b9c118a5.dl.dropboxusercontent.com/cd/0/inline/A2MuepXO3kWTCE1RNO5QlJmU7ZHHY1Ny7UBtDfOYpYmfwlbLv5e0xJ45cvx7ZyWmBNO1Qxd6msiNmLtcWO5FEDkg_GB5y3w9r7NnkEIO39eMufBjcHr4pbqgeUplBaFIf6Y/file\n",
            "Resolving uc2a72bc4998011d43f6b9c118a5.dl.dropboxusercontent.com (uc2a72bc4998011d43f6b9c118a5.dl.dropboxusercontent.com)... 162.125.9.6, 2620:100:601f:6::a27d:906\n",
            "Connecting to uc2a72bc4998011d43f6b9c118a5.dl.dropboxusercontent.com (uc2a72bc4998011d43f6b9c118a5.dl.dropboxusercontent.com)|162.125.9.6|:443... connected.\n",
            "HTTP request sent, awaiting response... 200 OK\n",
            "Length: 1305335102 (1.2G) [text/plain]\n",
            "Saving to: ‘train_controls_transformed.csv?dl=0’\n",
            "\n",
            "train_controls_tran 100%[===================>]   1.21G  46.9MB/s    in 26s     \n",
            "\n",
            "2020-04-20 16:32:28 (48.5 MB/s) - ‘train_controls_transformed.csv?dl=0’ saved [1305335102/1305335102]\n",
            "\n",
            "--2020-04-20 16:32:30--  https://www.dropbox.com/s/l7ttj1jjd7rtwbp/train_cases_transformed.csv?dl=0\n",
            "Resolving www.dropbox.com (www.dropbox.com)... 162.125.8.1, 2620:100:601f:1::a27d:901\n",
            "Connecting to www.dropbox.com (www.dropbox.com)|162.125.8.1|:443... connected.\n",
            "HTTP request sent, awaiting response... 301 Moved Permanently\n",
            "Location: /s/raw/l7ttj1jjd7rtwbp/train_cases_transformed.csv [following]\n",
            "--2020-04-20 16:32:30--  https://www.dropbox.com/s/raw/l7ttj1jjd7rtwbp/train_cases_transformed.csv\n",
            "Reusing existing connection to www.dropbox.com:443.\n",
            "HTTP request sent, awaiting response... 302 Found\n",
            "Location: https://ucbbe46492c6241d52378bb3c965.dl.dropboxusercontent.com/cd/0/inline/A2NbB8J5zp0wE_RP3-K3uSHOc-IBhzof7yanUbvJHwEdc-1zr_GADWPFuQtnn_FE-J4CG2EsV4I-dpBHvP5Vi57gnNJFewdlTdxC03vfuSRGbyHgF8RsSNpDExleKjGhv70/file# [following]\n",
            "--2020-04-20 16:32:30--  https://ucbbe46492c6241d52378bb3c965.dl.dropboxusercontent.com/cd/0/inline/A2NbB8J5zp0wE_RP3-K3uSHOc-IBhzof7yanUbvJHwEdc-1zr_GADWPFuQtnn_FE-J4CG2EsV4I-dpBHvP5Vi57gnNJFewdlTdxC03vfuSRGbyHgF8RsSNpDExleKjGhv70/file\n",
            "Resolving ucbbe46492c6241d52378bb3c965.dl.dropboxusercontent.com (ucbbe46492c6241d52378bb3c965.dl.dropboxusercontent.com)... 162.125.9.6, 2620:100:601f:6::a27d:906\n",
            "Connecting to ucbbe46492c6241d52378bb3c965.dl.dropboxusercontent.com (ucbbe46492c6241d52378bb3c965.dl.dropboxusercontent.com)|162.125.9.6|:443... connected.\n",
            "HTTP request sent, awaiting response... 200 OK\n",
            "Length: 1306778108 (1.2G) [text/plain]\n",
            "Saving to: ‘train_cases_transformed.csv?dl=0’\n",
            "\n",
            "train_cases_transfo 100%[===================>]   1.22G  33.5MB/s    in 39s     \n",
            "\n",
            "2020-04-20 16:33:10 (32.2 MB/s) - ‘train_cases_transformed.csv?dl=0’ saved [1306778108/1306778108]\n",
            "\n",
            "--2020-04-20 16:33:11--  https://www.dropbox.com/s/f4zsvv2eeia5lbl/holdout_controls_transformed.csv?dl=0\n",
            "Resolving www.dropbox.com (www.dropbox.com)... 162.125.8.1, 2620:100:601f:1::a27d:901\n",
            "Connecting to www.dropbox.com (www.dropbox.com)|162.125.8.1|:443... connected.\n",
            "HTTP request sent, awaiting response... 301 Moved Permanently\n",
            "Location: /s/raw/f4zsvv2eeia5lbl/holdout_controls_transformed.csv [following]\n",
            "--2020-04-20 16:33:11--  https://www.dropbox.com/s/raw/f4zsvv2eeia5lbl/holdout_controls_transformed.csv\n",
            "Reusing existing connection to www.dropbox.com:443.\n",
            "HTTP request sent, awaiting response... 302 Found\n",
            "Location: https://uc3581f00dad990f22283db31cc3.dl.dropboxusercontent.com/cd/0/inline/A2MuF9xpQdrRYJtLz4sid7o0l4IORjeVSoYGrQ8LXF5si3muh4RPDFgP15R-5fqpWmoi4lscGenwgCiH9mG112Hir1EnokwoLUgJULN09qZdQveRGhUjIDzj0jmgwXu8S9o/file# [following]\n",
            "--2020-04-20 16:33:11--  https://uc3581f00dad990f22283db31cc3.dl.dropboxusercontent.com/cd/0/inline/A2MuF9xpQdrRYJtLz4sid7o0l4IORjeVSoYGrQ8LXF5si3muh4RPDFgP15R-5fqpWmoi4lscGenwgCiH9mG112Hir1EnokwoLUgJULN09qZdQveRGhUjIDzj0jmgwXu8S9o/file\n",
            "Resolving uc3581f00dad990f22283db31cc3.dl.dropboxusercontent.com (uc3581f00dad990f22283db31cc3.dl.dropboxusercontent.com)... 162.125.9.6, 2620:100:601f:6::a27d:906\n",
            "Connecting to uc3581f00dad990f22283db31cc3.dl.dropboxusercontent.com (uc3581f00dad990f22283db31cc3.dl.dropboxusercontent.com)|162.125.9.6|:443... connected.\n",
            "HTTP request sent, awaiting response... 200 OK\n",
            "Length: 325708152 (311M) [text/plain]\n",
            "Saving to: ‘holdout_controls_transformed.csv?dl=0’\n",
            "\n",
            "holdout_controls_tr 100%[===================>] 310.62M  35.8MB/s    in 8.3s    \n",
            "\n",
            "2020-04-20 16:33:20 (37.5 MB/s) - ‘holdout_controls_transformed.csv?dl=0’ saved [325708152/325708152]\n",
            "\n",
            "--2020-04-20 16:33:21--  https://www.dropbox.com/s/eqpxj42chflzfl4/holdout_cases_transformed.csv?dl=0\n",
            "Resolving www.dropbox.com (www.dropbox.com)... 162.125.9.1, 2620:100:601f:1::a27d:901\n",
            "Connecting to www.dropbox.com (www.dropbox.com)|162.125.9.1|:443... connected.\n",
            "HTTP request sent, awaiting response... 301 Moved Permanently\n",
            "Location: /s/raw/eqpxj42chflzfl4/holdout_cases_transformed.csv [following]\n",
            "--2020-04-20 16:33:21--  https://www.dropbox.com/s/raw/eqpxj42chflzfl4/holdout_cases_transformed.csv\n",
            "Reusing existing connection to www.dropbox.com:443.\n",
            "HTTP request sent, awaiting response... 302 Found\n",
            "Location: https://uc3ed91f907f6a92adf8983c0b4b.dl.dropboxusercontent.com/cd/0/inline/A2PFLu6bO5ML6QhA419dn2tf9lxgK4pFVgRA3XneycHWFMtquNuaYLEheCH7BwKYPa-iki7kiAd4LN8t0BbHL1kEh5XgCt-L4FYH4gnz4SKm6kyOS5KdIunjqCB1c7oaN70/file# [following]\n",
            "--2020-04-20 16:33:21--  https://uc3ed91f907f6a92adf8983c0b4b.dl.dropboxusercontent.com/cd/0/inline/A2PFLu6bO5ML6QhA419dn2tf9lxgK4pFVgRA3XneycHWFMtquNuaYLEheCH7BwKYPa-iki7kiAd4LN8t0BbHL1kEh5XgCt-L4FYH4gnz4SKm6kyOS5KdIunjqCB1c7oaN70/file\n",
            "Resolving uc3ed91f907f6a92adf8983c0b4b.dl.dropboxusercontent.com (uc3ed91f907f6a92adf8983c0b4b.dl.dropboxusercontent.com)... 162.125.9.6, 2620:100:601f:6::a27d:906\n",
            "Connecting to uc3ed91f907f6a92adf8983c0b4b.dl.dropboxusercontent.com (uc3ed91f907f6a92adf8983c0b4b.dl.dropboxusercontent.com)|162.125.9.6|:443... connected.\n",
            "HTTP request sent, awaiting response... 200 OK\n",
            "Length: 325708152 (311M) [text/plain]\n",
            "Saving to: ‘holdout_cases_transformed.csv?dl=0’\n",
            "\n",
            "holdout_cases_trans 100%[===================>] 310.62M  53.1MB/s    in 5.9s    \n",
            "\n",
            "2020-04-20 16:33:28 (52.4 MB/s) - ‘holdout_cases_transformed.csv?dl=0’ saved [325708152/325708152]\n",
            "\n"
          ],
          "name": "stdout"
        },
        {
          "output_type": "error",
          "ename": "NameError",
          "evalue": "ignored",
          "traceback": [
            "\u001b[0;31m---------------------------------------------------------------------------\u001b[0m",
            "\u001b[0;31mNameError\u001b[0m                                 Traceback (most recent call last)",
            "\u001b[0;32m<ipython-input-1-271423f18414>\u001b[0m in \u001b[0;36m<module>\u001b[0;34m()\u001b[0m\n\u001b[1;32m      3\u001b[0m \u001b[0mget_ipython\u001b[0m\u001b[0;34m(\u001b[0m\u001b[0;34m)\u001b[0m\u001b[0;34m.\u001b[0m\u001b[0msystem\u001b[0m\u001b[0;34m(\u001b[0m\u001b[0;34m'wget https://www.dropbox.com/s/f4zsvv2eeia5lbl/holdout_controls_transformed.csv?dl=0'\u001b[0m\u001b[0;34m)\u001b[0m\u001b[0;34m\u001b[0m\u001b[0;34m\u001b[0m\u001b[0m\n\u001b[1;32m      4\u001b[0m \u001b[0mget_ipython\u001b[0m\u001b[0;34m(\u001b[0m\u001b[0;34m)\u001b[0m\u001b[0;34m.\u001b[0m\u001b[0msystem\u001b[0m\u001b[0;34m(\u001b[0m\u001b[0;34m'wget https://www.dropbox.com/s/eqpxj42chflzfl4/holdout_cases_transformed.csv?dl=0'\u001b[0m\u001b[0;34m)\u001b[0m\u001b[0;34m\u001b[0m\u001b[0;34m\u001b[0m\u001b[0m\n\u001b[0;32m----> 5\u001b[0;31m \u001b[0mpd\u001b[0m\u001b[0;34m.\u001b[0m\u001b[0mread_csv\u001b[0m\u001b[0;34m(\u001b[0m\u001b[0;34m)\u001b[0m\u001b[0;34m\u001b[0m\u001b[0;34m\u001b[0m\u001b[0m\n\u001b[0m",
            "\u001b[0;31mNameError\u001b[0m: name 'pd' is not defined"
          ]
        }
      ]
    },
    {
      "cell_type": "code",
      "metadata": {
        "id": "PYQXpBp8b3dx",
        "colab_type": "code",
        "colab": {}
      },
      "source": [
        "# Importing the data\n",
        "train_controls = pd.read_csv('train_controls_transformed.csv?dl=0')\n",
        "train_cases = pd.read_csv('train_cases_transformed.csv?dl=0')\n",
        "train_controls = pd.read_csv('holdout_controls_transformed.csv?dl=0')\n",
        "train_cases = pd.read_csv('holdout_cases_transformed.csv?dl=0')"
      ],
      "execution_count": 0,
      "outputs": []
    },
    {
      "cell_type": "code",
      "metadata": {
        "id": "J_1LXPnBa5ZB",
        "colab_type": "code",
        "colab": {}
      },
      "source": [
        ""
      ],
      "execution_count": 0,
      "outputs": []
    }
  ]
}