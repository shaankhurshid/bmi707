{
  "nbformat": 4,
  "nbformat_minor": 0,
  "metadata": {
    "colab": {
      "name": "Pre-processing.ipynb",
      "provenance": [],
      "machine_shape": "hm",
      "include_colab_link": true
    },
    "kernelspec": {
      "name": "python3",
      "display_name": "Python 3"
    },
    "accelerator": "GPU"
  },
  "cells": [
    {
      "cell_type": "markdown",
      "metadata": {
        "id": "view-in-github",
        "colab_type": "text"
      },
      "source": [
        "<a href=\"https://colab.research.google.com/github/shaankhurshid/bmi707/blob/pre-processing/Pre_processing.ipynb\" target=\"_parent\"><img src=\"https://colab.research.google.com/assets/colab-badge.svg\" alt=\"Open In Colab\"/></a>"
      ]
    },
    {
      "cell_type": "code",
      "metadata": {
        "id": "IU_ldoTcUmSv",
        "colab_type": "code",
        "colab": {}
      },
      "source": [
        "import pandas as pd\n",
        "import numpy as np"
      ],
      "execution_count": 0,
      "outputs": []
    },
    {
      "cell_type": "code",
      "metadata": {
        "id": "1U8kw9REZQQJ",
        "colab_type": "code",
        "colab": {}
      },
      "source": [
        "# Copying the data from dropbox: copy links using wget here."
      ],
      "execution_count": 0,
      "outputs": []
    },
    {
      "cell_type": "code",
      "metadata": {
        "id": "PYQXpBp8b3dx",
        "colab_type": "code",
        "colab": {}
      },
      "source": [
        "# Importing the data\n",
        "colnames = pd.array(range(1,112321)) # The number of time intervals in the database\n",
        "train_controls = pd.read_csv('train_controls_transformed.csv?dl=0', names = colnames, header = None)\n",
        "train_cases = pd.read_csv('train_cases_transformed.csv?dl=0', names = colnames, header = None)\n",
        "holdout_controls = pd.read_csv('holdout_controls_transformed.csv?dl=0', names = colnames, header = None)\n",
        "holdout_cases = pd.read_csv('holdout_cases_transformed.csv?dl=0', names = colnames, header = None)"
      ],
      "execution_count": 0,
      "outputs": []
    },
    {
      "cell_type": "code",
      "metadata": {
        "id": "7-Qzbwjqo2hA",
        "colab_type": "code",
        "colab": {}
      },
      "source": [
        "# Combine cases and controls\n",
        "train_data = pd.concat([train_controls, train_cases])"
      ],
      "execution_count": 0,
      "outputs": []
    },
    {
      "cell_type": "code",
      "metadata": {
        "id": "XoVdly5bpIGb",
        "colab_type": "code",
        "colab": {}
      },
      "source": [
        "# Re-shape the data for Keras\n",
        "train_data_reshaped = train_data.values.reshape(train_data.values.shape[0],train_data.values.shape[1],1)"
      ],
      "execution_count": 0,
      "outputs": []
    },
    {
      "cell_type": "code",
      "metadata": {
        "id": "AJmoXxWVh96e",
        "colab_type": "code",
        "colab": {
          "base_uri": "https://localhost:8080/",
          "height": 68
        },
        "outputId": "489a3e7d-6930-4c74-ea67-c48dcfff7902"
      },
      "source": [
        "# Check that sizes make sense\n",
        "print(train_controls.shape)\n",
        "print(train_cases.shape)\n",
        "print(train_data_reshaped.shape)"
      ],
      "execution_count": 59,
      "outputs": [
        {
          "output_type": "stream",
          "text": [
            "(694, 1, 112320)\n",
            "(694, 112320)\n",
            "(1388, 112320, 1)\n"
          ],
          "name": "stdout"
        }
      ]
    },
    {
      "cell_type": "code",
      "metadata": {
        "id": "J_1LXPnBa5ZB",
        "colab_type": "code",
        "colab": {}
      },
      "source": [
        "# Training the RNN for binary classification\n",
        "from tensorflow.keras.optimizers import Adam\n",
        "from tensorflow.keras.models import Sequential,Model\n",
        "from tensorflow.keras.layers import Dense, Activation, Dropout, Embedding, Input, Dropout, LSTM\n",
        "\n",
        "num_timesteps = train_data.shape[1]\n",
        "\n",
        "x = LSTM(units = 1)(train_data_reshaped) # units = 128 by default\n",
        "x = Dense(2, activation='sigmoid')(x) # 2 because this is a binary classification problem\n",
        "\n",
        "model = Model(inputs=num_timesteps, outputs=x)"
      ],
      "execution_count": 0,
      "outputs": []
    }
  ]
}