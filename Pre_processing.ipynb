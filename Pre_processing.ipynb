{
  "nbformat": 4,
  "nbformat_minor": 0,
  "metadata": {
    "colab": {
      "name": "Pre-processing.ipynb",
      "provenance": [],
      "include_colab_link": true
    },
    "kernelspec": {
      "name": "python3",
      "display_name": "Python 3"
    }
  },
  "cells": [
    {
      "cell_type": "markdown",
      "metadata": {
        "id": "view-in-github",
        "colab_type": "text"
      },
      "source": [
        "<a href=\"https://colab.research.google.com/github/shaankhurshid/bmi707/blob/pre-processing/Pre_processing.ipynb\" target=\"_parent\"><img src=\"https://colab.research.google.com/assets/colab-badge.svg\" alt=\"Open In Colab\"/></a>"
      ]
    },
    {
      "cell_type": "code",
      "metadata": {
        "id": "IU_ldoTcUmSv",
        "colab_type": "code",
        "colab": {}
      },
      "source": [
        "import pandas as pd\n",
        "import numpy as np"
      ],
      "execution_count": 0,
      "outputs": []
    },
    {
      "cell_type": "code",
      "metadata": {
        "id": "1U8kw9REZQQJ",
        "colab_type": "code",
        "colab": {}
      },
      "source": [
        "# Copying the data from dropbox\n"
      ],
      "execution_count": 0,
      "outputs": []
    },
    {
      "cell_type": "code",
      "metadata": {
        "id": "PYQXpBp8b3dx",
        "colab_type": "code",
        "colab": {}
      },
      "source": [
        "# Importing the data\n",
        "train_controls = pd.read_csv('train_controls_transformed.csv?dl=0')\n",
        "train_cases = pd.read_csv('train_cases_transformed.csv?dl=0')\n",
        "holdout_controls = pd.read_csv('holdout_controls_transformed.csv?dl=0')\n",
        "holdout_cases = pd.read_csv('holdout_cases_transformed.csv?dl=0')"
      ],
      "execution_count": 0,
      "outputs": []
    },
    {
      "cell_type": "code",
      "metadata": {
        "id": "VG2PEOHLgMLO",
        "colab_type": "code",
        "colab": {}
      },
      "source": [
        "# Combine cases and controls\n",
        "train_data = pd.concat([train_controls, train_cases])"
      ],
      "execution_count": 0,
      "outputs": []
    },
    {
      "cell_type": "code",
      "metadata": {
        "id": "AJmoXxWVh96e",
        "colab_type": "code",
        "colab": {
          "base_uri": "https://localhost:8080/",
          "height": 68
        },
        "outputId": "2260e401-eeae-4d45-baec-d5f19edf4a71"
      },
      "source": [
        "# Check sizes make sense\n",
        "print(train_controls.shape)\n",
        "print(train_cases.shape)\n",
        "print(train_data.shape)"
      ],
      "execution_count": 16,
      "outputs": [
        {
          "output_type": "stream",
          "text": [
            "(693, 112321)\n",
            "(172, 112321)\n",
            "(865, 222527)\n"
          ],
          "name": "stdout"
        }
      ]
    },
    {
      "cell_type": "code",
      "metadata": {
        "id": "J_1LXPnBa5ZB",
        "colab_type": "code",
        "colab": {}
      },
      "source": [
        "# Training the RNN for binary classification\n",
        "from tensorflow.keras.optimizers import Adam\n",
        "from tensorflow.keras.models import Sequential,Model\n",
        "from tensorflow.keras.layers import Dense, Activation, Dropout, Embedding, Input, Dropout, LSTM\n",
        "\n",
        "num_timesteps = train_data.shape[1]\n",
        "\n",
        "input = Input(shape=(num_timesteps, ))\n",
        "x = Embedding(input_dim = vocab_size, output_dim = 100, name='embedding')(input)\n",
        "x = LSTM(units = 128)(x)\n",
        "x = Dense(2, activation='sigmoid')(x) # 2 because this is a binary classification problem\n",
        "\n",
        "model = Model(inputs=input, outputs=x)"
      ],
      "execution_count": 0,
      "outputs": []
    }
  ]
}